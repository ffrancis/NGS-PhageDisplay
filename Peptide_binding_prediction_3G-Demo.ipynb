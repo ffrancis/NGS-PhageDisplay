{
 "cells": [
  {
   "cell_type": "markdown",
   "metadata": {},
   "source": [
    "# Predicting Peptide Binding based on Peptide Sequence"
   ]
  },
  {
   "cell_type": "markdown",
   "metadata": {},
   "source": [
    "### Load analyzed phage display data"
   ]
  },
  {
   "cell_type": "code",
   "execution_count": 3,
   "metadata": {
    "collapsed": false
   },
   "outputs": [],
   "source": [
    "import pandas as pd\n",
    "import numpy as np\n",
    "#import sys\n",
    "from time import time\n",
    "import matplotlib.pyplot as plt\n",
    "%matplotlib inline\n",
    "\n",
    "filepath = '/Users/data.xlsx'\n",
    "\n",
    "flank_seq1 = 'DEAHANK' \n",
    "flank_seq2 = 'MAHAL'\n",
    "flank_seq_len = 23\n",
    "drop_fix_aa_loc = [1,4,5,7,8,10,13,16,17,20,21] # concensus aa positions\n",
    "\n",
    "select_round1 = 'Percentage_S/N_Neg2_R4_amp'\n",
    "\n",
    "Thresh = 2 # threshold for grouping S/N into Good, Neutral, Bad\n",
    "\n",
    "####################################\n",
    "## extracting features and labels ##\n",
    "####################################\n",
    "data = pd.read_excel(filepath, header=0)\n",
    "data['var_seq'] = data['Peptide'].str.extract(flank_seq1+'(.*)'+flank_seq2, expand=False) # extracting just the variable portion. Or '(.+?)'\n",
    "# select only the right seq length, this is important for generating fasta file\n",
    "data = data.loc[data.var_seq.str.len() == flank_seq_len,]\n",
    "\n",
    "aa_label = {'A':1,'C':2,'D':3,'E':4,'F':5,'G':6,'H':7,'I':8,'K':9,'L':10,'M':11,'N':12,'P':13,'Q':14,'R':15,'S':16,'T':17,'V':18,'W':19,'Y':20,'O':21}\n",
    "\n",
    "s_data = data.loc[data[select_round1] >= 0, [select_round1, 'var_seq']] # subset the data"
   ]
  },
  {
   "cell_type": "markdown",
   "metadata": {},
   "source": [
    "### Take a quick look at the S/N distribution before we subset them into different labels"
   ]
  },
  {
   "cell_type": "code",
   "execution_count": 4,
   "metadata": {
    "collapsed": false
   },
   "outputs": [
    {
     "data": {
      "text/plain": [
       "<matplotlib.axes._subplots.AxesSubplot at 0x1049d0610>"
      ]
     },
     "execution_count": 4,
     "metadata": {},
     "output_type": "execute_result"
    },
    {
     "data": {
      "image/png": "[encoded data removed]",
      "text/plain": [
       "<matplotlib.figure.Figure at 0x1045bf8d0>"
      ]
     },
     "metadata": {},
     "output_type": "display_data"
    }
   ],
   "source": [
    "plt.rcParams['figure.figsize'] = (15.0, 3.0)\n",
    "s_data[select_round1].plot(colormap='Set1', kind='hist', alpha=0.7, bins=100, xlim=(0,5)) "
   ]
  },
  {
   "cell_type": "markdown",
   "metadata": {},
   "source": [
    "Seems like there are several groups, we can further separate them based on the Threshold me choose.\n",
    "\n",
    "Based on my phage display experience, S/N > 2 may be considered as good binding peptide. \n",
    "So I will separate them into Bad (0-0.5), Neutral (0.5-2), and Good (>2)"
   ]
  },
  {
   "cell_type": "code",
   "execution_count": 5,
   "metadata": {
    "collapsed": true
   },
   "outputs": [],
   "source": [
    "# (instead of directly using S/N ratio) re-define 'label': Good (1), Neutral (0), Bad (-1)\n",
    "idx_Good = s_data[select_round1] > Thresh\n",
    "idx_Neutral = (s_data[select_round1] <= Thresh) & (s_data[select_round1] > 1/Thresh)\n",
    "idx_Bad = (s_data[select_round1] <= 1/Thresh) & (s_data[select_round1] >=0.0 )\n",
    "\n",
    "# create a new Label for above groups\n",
    "s_data.loc[idx_Good, 'Label'] = 1\n",
    "s_data.loc[idx_Neutral, 'Label'] = 0\n",
    "s_data.loc[idx_Bad, 'Label'] = -1"
   ]
  },
  {
   "cell_type": "markdown",
   "metadata": {},
   "source": [
    "### Take a quick look at the S/N distribution in each group"
   ]
  },
  {
   "cell_type": "code",
   "execution_count": 6,
   "metadata": {
    "collapsed": false
   },
   "outputs": [
    {
     "data": {
      "text/plain": [
       "<matplotlib.text.Text at 0x114c99510>"
      ]
     },
     "execution_count": 6,
     "metadata": {},
     "output_type": "execute_result"
    },
    {
     "data": {
      "image/png": "[encoded data removed]",
      "text/plain": [
       "<matplotlib.figure.Figure at 0x1045bf790>"
      ]
     },
     "metadata": {},
     "output_type": "display_data"
    }
   ],
   "source": [
    "p_Good = s_data.loc[idx_Good, select_round1]\n",
    "p_Neutral = s_data.loc[idx_Neutral, select_round1]\n",
    "p_Bad = s_data.loc[idx_Bad, select_round1]\n",
    "\n",
    "df = pd.concat([p_Good, p_Neutral, p_Bad], axis=1)\n",
    "df.columns = ['Good', 'Neutral', 'Bad']\n",
    "\n",
    "# Hist within each group\n",
    "plt.rcParams['figure.figsize'] = (15.0, 3.0)\n",
    "fig, axes = plt.subplots(nrows=1, ncols=3)\n",
    "df.Good.plot(kind='hist', colormap='Set1', ax=axes[2], xlim=(Thresh,10), alpha=0.7); axes[2].set_title('Good'); axes[2].set_xlabel(\"S/N ratio\")\n",
    "df.Neutral.plot(kind='hist', colormap='Set1', ax=axes[1], alpha=0.7); axes[1].set_title('Neutral'); axes[1].set_xlabel(\"S/N ratio\")\n",
    "df.Bad.plot(kind='hist', colormap='Set1', ax=axes[0], alpha=0.7); axes[0].set_title('Bad'); axes[0].set_xlabel(\"S/N ratio\")"
   ]
  },
  {
   "cell_type": "markdown",
   "metadata": {},
   "source": [
    "Our threshold boundary does a good job in separating three S/N populations. (One may argue that in Neutral group, there is a small population that may fit into Good. But based on my experience those can not be considered as Good binders.)\n",
    "\n",
    "**However, we have a lot more data points in Bad > Neutral >> Good.** This will bias our training, so we need to re-sample Bad and Neutral so that they have equal amount of data points."
   ]
  },
  {
   "cell_type": "markdown",
   "metadata": {},
   "source": [
    "### Re-sample Bad and Neutral to get similar sample size as Good"
   ]
  },
  {
   "cell_type": "code",
   "execution_count": 7,
   "metadata": {
    "collapsed": false
   },
   "outputs": [
    {
     "name": "stdout",
     "output_type": "stream",
     "text": [
      "The Sample Size in Good   :  36\n",
      "The Sample Size in Neutral:  72\n",
      "The Sample Size in Bad    :  72\n"
     ]
    }
   ],
   "source": [
    "s_data.re_g = s_data.loc[idx_Good]\n",
    "s_data.re_n = s_data.loc[idx_Neutral].sample(n=len(s_data.re_g)*2, random_state=42)\n",
    "s_data.re_b = s_data.loc[idx_Bad].sample(n=len(s_data.re_g)*2, random_state=42)\n",
    "print 'The Sample Size in Good   : ', len(s_data.re_g)\n",
    "print 'The Sample Size in Neutral: ', len(s_data.re_n)\n",
    "print 'The Sample Size in Bad    : ', len(s_data.re_b)"
   ]
  },
  {
   "cell_type": "markdown",
   "metadata": {},
   "source": [
    "### Do these groups have distinct features in their amino acid positions?"
   ]
  },
  {
   "cell_type": "code",
   "execution_count": 9,
   "metadata": {
    "collapsed": false
   },
   "outputs": [
    {
     "data": {
      "text/plain": [
       "<matplotlib.text.Text at 0x11bb5c5d0>"
      ]
     },
     "execution_count": 9,
     "metadata": {},
     "output_type": "execute_result"
    },
    {
     "data": {
      "image/png": "[encoded data removed]",
      "text/plain": [
       "<matplotlib.figure.Figure at 0x11b8df690>"
      ]
     },
     "metadata": {},
     "output_type": "display_data"
    }
   ],
   "source": [
    "import sys\n",
    "sys.path.append('/Users/') # where I define my custom functions\n",
    "from phage_display_funcs import make_seq_heatmap_df\n",
    "import seaborn as sns \n",
    "p3 = make_seq_heatmap_df(s_data.re_g.var_seq, flank_seq_len, drop_fix_aa_loc)\n",
    "p2 = make_seq_heatmap_df(s_data.re_n.var_seq, flank_seq_len, drop_fix_aa_loc)\n",
    "p1 = make_seq_heatmap_df(s_data.re_b.var_seq, flank_seq_len, drop_fix_aa_loc)\n",
    "\n",
    "plt.rcParams['figure.figsize'] = (15.0, 3.0)\n",
    "fig, (ax1,ax2,ax3) = plt.subplots(nrows=1, ncols=3)\n",
    "sns.heatmap(p3, ax=ax3); ax3.set_title('Good'); ax3.set_xlabel('amino acid')\n",
    "sns.heatmap(p2, ax=ax2); ax2.set_title('Neutral'); ax2.set_xlabel('amino acid')\n",
    "sns.heatmap(p1, ax=ax1); ax1.set_title('Bad'); ax1.set_xlabel('amino acid'); ax1.set_ylabel('position')"
   ]
  },
  {
   "cell_type": "markdown",
   "metadata": {},
   "source": [
    "Seems like there is a 'slight' different pattern among them. Let's see how well we can train the machine to recognize the pattern."
   ]
  },
  {
   "cell_type": "markdown",
   "metadata": {},
   "source": [
    "### Generate Features and Labels"
   ]
  },
  {
   "cell_type": "code",
   "execution_count": 10,
   "metadata": {
    "collapsed": false
   },
   "outputs": [
    {
     "name": "stdout",
     "output_type": "stream",
     "text": [
      "# features:  180\n",
      "# labels:  180\n"
     ]
    }
   ],
   "source": [
    "# append them together\n",
    "s_data.re = s_data.re_g.append([s_data.re_n, s_data.re_b])\n",
    "seqs = s_data.re.var_seq \n",
    "\n",
    "# converting aa seq into number as shown in aa_label\n",
    "seq_feature = []\n",
    "for seq in seqs:\n",
    "    string = pd.Series(list(seq))\n",
    "    string.drop(drop_fix_aa_loc, inplace=True) # remove concensus aa\n",
    "    string.reset_index(drop=True, inplace=True) # reset the index for the next step\n",
    "    for index, charc in enumerate(string):\n",
    "        string[index] = aa_label[charc]\n",
    "    seq_feature.append(string)\n",
    "\n",
    "seq_label = s_data.re.Label.reset_index(drop=True)\n",
    "\n",
    "print '# features: ', len(seq_feature)\n",
    "print '# labels: ', len(seq_label)"
   ]
  },
  {
   "cell_type": "markdown",
   "metadata": {},
   "source": [
    "### Split Training and Testing datasets"
   ]
  },
  {
   "cell_type": "code",
   "execution_count": 11,
   "metadata": {
    "collapsed": false
   },
   "outputs": [
    {
     "name": "stdout",
     "output_type": "stream",
     "text": [
      "# of data in trained features: 153\n",
      "# of data in test features: 27\n",
      "# of data in trained labels: 153\n",
      "# of data in test labels: 27\n"
     ]
    }
   ],
   "source": [
    "from sklearn.cross_validation import train_test_split\n",
    "features_train, features_test, labels_train, labels_test = train_test_split(seq_feature, seq_label, test_size=0.15, random_state=42)\n",
    "print '# of data in trained features: %d' %len(features_train)\n",
    "print '# of data in test features: %d' %len(features_test)\n",
    "print '# of data in trained labels: %d' %len(labels_train)\n",
    "print '# of data in test labels: %d' %len(labels_test)"
   ]
  },
  {
   "cell_type": "markdown",
   "metadata": {},
   "source": [
    "(well..the sample size if very small... Phage Display on Cell is not an easy work..still collecting more data)"
   ]
  },
  {
   "cell_type": "markdown",
   "metadata": {},
   "source": [
    "### Try _SVM_"
   ]
  },
  {
   "cell_type": "markdown",
   "metadata": {},
   "source": [
    "**C**, common to all SVM kernels, trades off misclassification of training examples against simplicity of the decision surface. A low C makes the decision surface smooth, while a high C aims at classifying all training examples correctly.\n",
    "\n",
    "**gamma** defines how much influence a single training example has. The larger gamma is, the closer other examples must be to be affected.\n",
    "\n",
    "Proper choice of C and gamma is critical to the SVM’s performance. One is advised to use [sklearn.model_selection.GridSearchCV](http://scikit-learn.org/stable/modules/generated/sklearn.model_selection.GridSearchCV.html#sklearn.model_selection.GridSearchCV) with C and gamma spaced exponentially far apart to choose good values."
   ]
  },
  {
   "cell_type": "code",
   "execution_count": 12,
   "metadata": {
    "collapsed": false
   },
   "outputs": [
    {
     "name": "stdout",
     "output_type": "stream",
     "text": [
      "training time: 1.019 s\n",
      "accuracy:  0.74\n"
     ]
    }
   ],
   "source": [
    "from sklearn.svm import SVC\n",
    "t0 = time() \n",
    "clf = SVC(kernel=\"linear\", C=1e1, gamma=1e3) # linear, rbf, poly\n",
    "clf.fit(features_train, labels_train)\n",
    "print \"training time:\", round(time()-t0, 3), \"s\" # time the training process\n",
    "score = clf.score(features_test, labels_test)\n",
    "print \"accuracy: \", round(score, 2) # print out the scores"
   ]
  },
  {
   "cell_type": "code",
   "execution_count": 13,
   "metadata": {
    "collapsed": false,
    "scrolled": true
   },
   "outputs": [
    {
     "name": "stdout",
     "output_type": "stream",
     "text": [
      "Test Label - Good  : [ 1.  1.  1.  1.  1.  1.]\n",
      "The prediction says: [ 0.  0.  1.  1.  0. -1.]\n",
      "Test Label -Neutral: [ 0.  0.  0.  0.  0.  0.  0.  0.  0.  0.  0.]\n",
      "The prediction says: [ 0.  0.  0.  0.  0.  1.  0.  0.  0. -1.  0.]\n",
      "Test Label - Bad   : [-1. -1. -1. -1. -1. -1. -1. -1. -1. -1.]\n",
      "The prediction says: [-1. -1. -1. -1. -1.  0. -1. -1. -1. -1.]\n"
     ]
    }
   ],
   "source": [
    "# checking the predicted data\n",
    "labels_test = np.array(labels_test)\n",
    "idx_test_g = labels_test == 1\n",
    "#idx_pred = clf.predict(features_test) >0\n",
    "print \"Test Label - Good  :\", labels_test[idx_test_g]\n",
    "print \"The prediction says:\",  clf.predict(features_test)[idx_test_g]\n",
    "\n",
    "idx_test_n = labels_test == 0\n",
    "#idx_pred = clf.predict(features_test) >0\n",
    "print \"Test Label -Neutral:\", labels_test[idx_test_n]\n",
    "print \"The prediction says:\",  clf.predict(features_test)[idx_test_n]\n",
    "\n",
    "idx_test_b = labels_test == -1\n",
    "#idx_pred = clf.predict(features_test) >0\n",
    "print \"Test Label - Bad   :\", labels_test[idx_test_b]\n",
    "print \"The prediction says:\",  clf.predict(features_test)[idx_test_b]"
   ]
  },
  {
   "cell_type": "markdown",
   "metadata": {},
   "source": [
    "### Try _Decision Tree_"
   ]
  },
  {
   "cell_type": "code",
   "execution_count": 14,
   "metadata": {
    "collapsed": false
   },
   "outputs": [
    {
     "name": "stdout",
     "output_type": "stream",
     "text": [
      "training time: 1.918 s\n",
      "accuracy:  0.63\n"
     ]
    }
   ],
   "source": [
    "from sklearn.ensemble import RandomForestClassifier\n",
    "clf = RandomForestClassifier(n_estimators=1000, max_depth=10, min_samples_split=2, random_state=0)\n",
    "t0 = time() \n",
    "clf.fit(features_train, labels_train)\n",
    "print \"training time:\", round(time()-t0, 3), \"s\" # time the training process\n",
    "score = clf.score(features_test, labels_test)\n",
    "print \"accuracy: \", round(score, 2) # print out the score"
   ]
  },
  {
   "cell_type": "code",
   "execution_count": 15,
   "metadata": {
    "collapsed": false
   },
   "outputs": [
    {
     "name": "stdout",
     "output_type": "stream",
     "text": [
      "Test Label - Good  : [ 1.  1.  1.  1.  1.  1.]\n",
      "The prediction says: [ 0. -1.  1.  0. -1. -1.]\n",
      "Test Label -Neutral: [ 0.  0.  0.  0.  0.  0.  0.  0.  0.  0.  0.]\n",
      "The prediction says: [ 0.  0.  0.  0. -1.  1.  0.  1.  0.  0. -1.]\n",
      "Test Label - Bad   : [-1. -1. -1. -1. -1. -1. -1. -1. -1. -1.]\n",
      "The prediction says: [-1. -1. -1. -1. -1.  0. -1. -1. -1. -1.]\n"
     ]
    }
   ],
   "source": [
    "# checking the predicted data\n",
    "labels_test = np.array(labels_test)\n",
    "idx_test_g = labels_test == 1\n",
    "#idx_pred = clf.predict(features_test) >0\n",
    "print \"Test Label - Good  :\", labels_test[idx_test_g]\n",
    "print \"The prediction says:\",  clf.predict(features_test)[idx_test_g]\n",
    "\n",
    "idx_test_n = labels_test == 0\n",
    "#idx_pred = clf.predict(features_test) >0\n",
    "print \"Test Label -Neutral:\", labels_test[idx_test_n]\n",
    "print \"The prediction says:\",  clf.predict(features_test)[idx_test_n]\n",
    "\n",
    "idx_test_b = labels_test == -1\n",
    "#idx_pred = clf.predict(features_test) >0\n",
    "print \"Test Label - Bad   :\", labels_test[idx_test_b]\n",
    "print \"The prediction says:\",  clf.predict(features_test)[idx_test_b]"
   ]
  },
  {
   "cell_type": "markdown",
   "metadata": {},
   "source": [
    "### Try _AdaBoost_"
   ]
  },
  {
   "cell_type": "code",
   "execution_count": 16,
   "metadata": {
    "collapsed": false
   },
   "outputs": [
    {
     "name": "stdout",
     "output_type": "stream",
     "text": [
      "training time: 0.205 s\n",
      "accuracy:  0.52\n"
     ]
    }
   ],
   "source": [
    "from sklearn.ensemble import AdaBoostClassifier\n",
    "clf = AdaBoostClassifier(n_estimators=100)\n",
    "t0 = time() \n",
    "clf.fit(features_train, labels_train)\n",
    "print \"training time:\", round(time()-t0, 3), \"s\" # time the training process\n",
    "score = clf.score(features_test, labels_test)\n",
    "print \"accuracy: \", round(score, 2) # print out the score"
   ]
  },
  {
   "cell_type": "code",
   "execution_count": 17,
   "metadata": {
    "collapsed": false
   },
   "outputs": [
    {
     "name": "stdout",
     "output_type": "stream",
     "text": [
      "Test Label - Good  : [ 1.  1.  1.  1.  1.  1.]\n",
      "The prediction says: [ 0.  0.  1.  0.  0. -1.]\n",
      "Test Label -Neutral: [ 0.  0.  0.  0.  0.  0.  0.  0.  0.  0.  0.]\n",
      "The prediction says: [ 0.  0.  0.  0. -1.  1.  0.  1. -1.  1. -1.]\n",
      "Test Label - Bad   : [-1. -1. -1. -1. -1. -1. -1. -1. -1. -1.]\n",
      "The prediction says: [-1. -1. -1. -1.  0. -1.  0. -1. -1. -1.]\n"
     ]
    }
   ],
   "source": [
    "# checking the predicted data\n",
    "labels_test = np.array(labels_test)\n",
    "idx_test_g = labels_test == 1\n",
    "#idx_pred = clf.predict(features_test) >0\n",
    "print \"Test Label - Good  :\", labels_test[idx_test_g]\n",
    "print \"The prediction says:\",  clf.predict(features_test)[idx_test_g]\n",
    "\n",
    "idx_test_n = labels_test == 0\n",
    "#idx_pred = clf.predict(features_test) >0\n",
    "print \"Test Label -Neutral:\", labels_test[idx_test_n]\n",
    "print \"The prediction says:\",  clf.predict(features_test)[idx_test_n]\n",
    "\n",
    "idx_test_b = labels_test == -1\n",
    "#idx_pred = clf.predict(features_test) >0\n",
    "print \"Test Label - Bad   :\", labels_test[idx_test_b]\n",
    "print \"The prediction says:\",  clf.predict(features_test)[idx_test_b]"
   ]
  },
  {
   "cell_type": "markdown",
   "metadata": {},
   "source": [
    "## Final Thought on this dataset\n",
    "\n",
    "**SVM** gives me the best Score **0.73**\n",
    "\n",
    "Number of Training points: **153**\n",
    "\n",
    "Number of Testing points : **27**\n",
    "\n",
    "### How to get better prediction?\n",
    "It's not easy to quickly see any pattern in the above heatmap. That already tells us that the feature is not good enough. I can get better distinction by increasing the Threshold > 3 or even 5, but then I loose the sample size in Good population. So to get better prediction:\n",
    "\n",
    "1. Increase the sample quality, get good distinction between Good and Bad binders\n",
    "    - (The current sample is collected from phage library + target cells direct incubation. We found out this method gave us a lot of non-specific binding, therefore it's very hard to collect good S/N binders. Our current thought on improving the quality is to re-design the experiment, collect much purer binders (over-express target on the cell with cleavable construct and also include more negative control cell lines)\n",
    "    \n",
    "2. Increase the sample size (well...more labor work for a postdoc...)\n",
    "\n",
    "\n",
    "3. Scale/Weight some feature\n",
    "    - This peptide library forms mainly alpha-helix structure, some amino acid positions may involve more in the protein binding while some may not. We can look further into the heatmap patter (or even solve the structure by X-ray crystallography..well another postdoc project)"
   ]
  },
  {
   "cell_type": "markdown",
   "metadata": {
    "collapsed": true
   },
   "source": [
    "### To Be Continued ......"
   ]
  }
 ],
 "metadata": {
  "kernelspec": {
   "display_name": "Python 2",
   "language": "python",
   "name": "python2"
  },
  "language_info": {
   "codemirror_mode": {
    "name": "ipython",
    "version": 2
   },
   "file_extension": ".py",
   "mimetype": "text/x-python",
   "name": "python",
   "nbconvert_exporter": "python",
   "pygments_lexer": "ipython2",
   "version": "2.7.10"
  }
 },
 "nbformat": 4,
 "nbformat_minor": 0
}
